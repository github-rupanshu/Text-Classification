{
 "cells": [
  {
   "cell_type": "markdown",
   "metadata": {},
   "source": [
    "## 20 newsgroups text classification"
   ]
  },
  {
   "cell_type": "code",
   "execution_count": 1,
   "metadata": {},
   "outputs": [],
   "source": [
    "from os import listdir\n",
    "from os.path import isfile, join\n",
    "import string"
   ]
  },
  {
   "cell_type": "code",
   "execution_count": 3,
   "metadata": {},
   "outputs": [],
   "source": [
    "my_path = '20_newsgroups/20_newsgroups'\n",
    "\n",
    "folders = [f for f in listdir(my_path)] #create list of folders"
   ]
  },
  {
   "cell_type": "code",
   "execution_count": 5,
   "metadata": {},
   "outputs": [
    {
     "data": {
      "text/plain": [
       "['alt.atheism',\n",
       " 'comp.graphics',\n",
       " 'comp.os.ms-windows.misc',\n",
       " 'comp.sys.ibm.pc.hardware',\n",
       " 'comp.sys.mac.hardware',\n",
       " 'comp.windows.x',\n",
       " 'misc.forsale',\n",
       " 'rec.autos',\n",
       " 'rec.motorcycles',\n",
       " 'rec.sport.baseball',\n",
       " 'rec.sport.hockey',\n",
       " 'sci.crypt',\n",
       " 'sci.electronics',\n",
       " 'sci.med',\n",
       " 'sci.space',\n",
       " 'soc.religion.christian',\n",
       " 'talk.politics.guns',\n",
       " 'talk.politics.mideast',\n",
       " 'talk.politics.misc',\n",
       " 'talk.religion.misc']"
      ]
     },
     "execution_count": 5,
     "metadata": {},
     "output_type": "execute_result"
    }
   ],
   "source": [
    "folders"
   ]
  },
  {
   "cell_type": "code",
   "execution_count": 7,
   "metadata": {},
   "outputs": [],
   "source": [
    "#path of all files\n",
    "\n",
    "files = []\n",
    "for folder_name in folders:\n",
    "    folder_path = join(my_path, folder_name)\n",
    "    files.append([f for f in listdir(folder_path)])"
   ]
  },
  {
   "cell_type": "code",
   "execution_count": 9,
   "metadata": {},
   "outputs": [],
   "source": [
    "#list of file with full path\n",
    "pathname_list = []\n",
    "for fo in range(len(folders)):\n",
    "    for fi in files[fo]:\n",
    "        pathname_list.append(join(my_path, join(folders[fo], fi)))"
   ]
  },
  {
   "cell_type": "code",
   "execution_count": 10,
   "metadata": {},
   "outputs": [
    {
     "data": {
      "text/plain": [
       "19997"
      ]
     },
     "execution_count": 10,
     "metadata": {},
     "output_type": "execute_result"
    }
   ],
   "source": [
    "len(pathname_list)"
   ]
  },
  {
   "cell_type": "code",
   "execution_count": 11,
   "metadata": {},
   "outputs": [],
   "source": [
    "#array of classes for classification\n",
    "\n",
    "Y = []\n",
    "for folder_name in folders:\n",
    "    folder_path = join(my_path, folder_name)\n",
    "    num_of_files= len(listdir(folder_path))\n",
    "    for i in range(num_of_files):\n",
    "        Y.append(folder_name)"
   ]
  },
  {
   "cell_type": "code",
   "execution_count": 12,
   "metadata": {},
   "outputs": [
    {
     "data": {
      "text/plain": [
       "19997"
      ]
     },
     "execution_count": 12,
     "metadata": {},
     "output_type": "execute_result"
    }
   ],
   "source": [
    "len(Y)"
   ]
  },
  {
   "cell_type": "code",
   "execution_count": 13,
   "metadata": {},
   "outputs": [],
   "source": [
    "from sklearn.model_selection import train_test_split"
   ]
  },
  {
   "cell_type": "code",
   "execution_count": 14,
   "metadata": {},
   "outputs": [],
   "source": [
    "#splitting the data into train test\n",
    "doc_train, doc_test, Y_train, Y_test = train_test_split(pathname_list, Y, random_state=0, test_size=0.25)"
   ]
  },
  {
   "cell_type": "code",
   "execution_count": 15,
   "metadata": {},
   "outputs": [],
   "source": [
    "stopwords = ['a', 'about', 'above', 'after', 'again', 'against', 'all', 'am', 'an', 'and', 'any', 'are', \"aren't\", 'as', 'at',\n",
    " 'be', 'because', 'been', 'before', 'being', 'below', 'between', 'both', 'but', 'by', \n",
    " 'can', \"can't\", 'cannot', 'could', \"couldn't\", 'did', \"didn't\", 'do', 'does', \"doesn't\", 'doing', \"don't\", 'down', 'during',\n",
    " 'each', 'few', 'for', 'from', 'further', \n",
    " 'had', \"hadn't\", 'has', \"hasn't\", 'have', \"haven't\", 'having', 'he', \"he'd\", \"he'll\", \"he's\", 'her', 'here', \"here's\",\n",
    " 'hers', 'herself', 'him', 'himself', 'his', 'how', \"how's\",\n",
    " 'i', \"i'd\", \"i'll\", \"i'm\", \"i've\", 'if', 'in', 'into', 'is', \"isn't\", 'it', \"it's\", 'its', 'itself',\n",
    " \"let's\", 'me', 'more', 'most', \"mustn't\", 'my', 'myself',\n",
    " 'no', 'nor', 'not', 'of', 'off', 'on', 'once', 'only', 'or', 'other', 'ought', 'our', 'ours' 'ourselves', 'out', 'over', 'own',\n",
    " 'same', \"shan't\", 'she', \"she'd\", \"she'll\", \"she's\", 'should', \"shouldn't\", 'so', 'some', 'such', \n",
    " 'than', 'that',\"that's\", 'the', 'their', 'theirs', 'them', 'themselves', 'then', 'there', \"there's\", 'these', 'they', \"they'd\", \n",
    " \"they'll\", \"they're\", \"they've\", 'this', 'those', 'through', 'to', 'too', 'under', 'until', 'up', 'very', \n",
    " 'was', \"wasn't\", 'we', \"we'd\", \"we'll\", \"we're\", \"we've\", 'were', \"weren't\", 'what', \"what's\", 'when', \"when's\", 'where',\n",
    " \"where's\", 'which', 'while', 'who', \"who's\", 'whom', 'why', \"why's\",'will', 'with', \"won't\", 'would', \"wouldn't\", \n",
    " 'you', \"you'd\", \"you'll\", \"you're\", \"you've\", 'your', 'yours', 'yourself', 'yourselves', \n",
    " 'one', 'two', 'three', 'four', 'five', 'six', 'seven', 'eight', 'nine', 'ten', 'hundred', 'thousand', '1st', '2nd', '3rd',\n",
    " '4th', '5th', '6th', '7th', '8th', '9th', '10th']\n"
   ]
  },
  {
   "cell_type": "code",
   "execution_count": 16,
   "metadata": {},
   "outputs": [],
   "source": [
    "#function to preprocess the words list\n",
    "\n",
    "def preprocess(words):\n",
    "    table = str.maketrans('', '', '\\t')               #to remove tab \n",
    "    words = [word.translate(table) for word in words]\n",
    "    \n",
    "    punctuations = (string.punctuation).replace(\"'\", \"\")   #remove punctuations\n",
    "    trans_table = str.maketrans('', '', punctuations)\n",
    "    stripped_words = [word.translate(trans_table) for word in words]\n",
    "    \n",
    "    words = [str for str in stripped_words if str]                #to remove white spaces\n",
    "    \n",
    "    p_words = []\n",
    "    for word in words:\n",
    "        if (word[0] and word[len(word)-1] == \"'\"):                     #to remove quotation marks\n",
    "            word = word[1:len(word)-1]\n",
    "        elif(word[0] == \"'\"):\n",
    "            word = word[1:len(word)]\n",
    "        else:\n",
    "            word = word\n",
    "        p_words.append(word)\n",
    "    \n",
    "    words = p_words.copy()\n",
    "        \n",
    "    words = [word for word in words if not word.isdigit()]      #remove neumeric data\n",
    "    \n",
    "    words = [word for word in words if not len(word) == 1]    #remove character with less than 1 lenght\n",
    "    \n",
    "    words = [str for str in words if str]                       #to remove white spaces\n",
    "    \n",
    "    words = [word.lower() for word in words]                 #covert to lowercase\n",
    "\n",
    "    words = [word for word in words if len(word) > 2]            #remove character with less than 2 lenght\n",
    "    \n",
    "    return words"
   ]
  },
  {
   "cell_type": "code",
   "execution_count": 17,
   "metadata": {},
   "outputs": [],
   "source": [
    "#function to remove stopwords\n",
    "def remove_stopwords(words):\n",
    "    words = [word for word in words if not word in stopwords]\n",
    "    return words"
   ]
  },
  {
   "cell_type": "code",
   "execution_count": 18,
   "metadata": {},
   "outputs": [],
   "source": [
    "#function to convert a sentence into list of words\n",
    "def tokenize_sentence(line):\n",
    "    words = line[0:len(line)-1].strip().split(\" \")\n",
    "    words = preprocess(words)\n",
    "    words = remove_stopwords(words)\n",
    "    \n",
    "    return words"
   ]
  },
  {
   "cell_type": "code",
   "execution_count": 22,
   "metadata": {},
   "outputs": [],
   "source": [
    "#function to remove metadata\n",
    "def remove_metadata(lines):\n",
    "    for i in range(len(lines)):\n",
    "        if(lines[i] == '\\n'):\n",
    "            start = i+1\n",
    "            break\n",
    "    new_lines = lines[start:]\n",
    "    return new_lines"
   ]
  },
  {
   "cell_type": "code",
   "execution_count": 23,
   "metadata": {},
   "outputs": [],
   "source": [
    "#function to convert a document into list of words\n",
    "def tokenize(path):\n",
    "\n",
    "    f = open(path, 'r')                   \n",
    "    text_lines = f.readlines()                 #open file and read data line by line\n",
    "    \n",
    "    text_lines = remove_metadata(text_lines)\n",
    "\n",
    "    doc_words = []\n",
    "    \n",
    "    for line in text_lines:\n",
    "        doc_words.append(tokenize_sentence(line))  #split scentence\n",
    "\n",
    "    return doc_words"
   ]
  },
  {
   "cell_type": "code",
   "execution_count": 24,
   "metadata": {},
   "outputs": [],
   "source": [
    "#to change shape for 2d to 1d\n",
    "def flatten(list):\n",
    "    new_list = []\n",
    "    for i in list:\n",
    "        for j in i:\n",
    "            new_list.append(j)\n",
    "    return new_list"
   ]
  },
  {
   "cell_type": "code",
   "execution_count": 25,
   "metadata": {},
   "outputs": [
    {
     "data": {
      "text/plain": [
       "20"
      ]
     },
     "execution_count": 25,
     "metadata": {},
     "output_type": "execute_result"
    }
   ],
   "source": [
    "len(folders)"
   ]
  },
  {
   "cell_type": "code",
   "execution_count": 26,
   "metadata": {},
   "outputs": [],
   "source": [
    "list_of_words = []\n",
    "\n",
    "for document in doc_train:\n",
    "        list_of_words.append(flatten(tokenize(document)))   ##function to get list of all words documents wise"
   ]
  },
  {
   "cell_type": "code",
   "execution_count": 27,
   "metadata": {},
   "outputs": [
    {
     "data": {
      "text/plain": [
       "14997"
      ]
     },
     "execution_count": 27,
     "metadata": {},
     "output_type": "execute_result"
    }
   ],
   "source": [
    "len(list_of_words)"
   ]
  },
  {
   "cell_type": "code",
   "execution_count": 28,
   "metadata": {},
   "outputs": [
    {
     "data": {
      "text/plain": [
       "1909457"
      ]
     },
     "execution_count": 28,
     "metadata": {},
     "output_type": "execute_result"
    }
   ],
   "source": [
    "len(flatten(list_of_words))"
   ]
  },
  {
   "cell_type": "code",
   "execution_count": 29,
   "metadata": {},
   "outputs": [],
   "source": [
    "import numpy as np\n",
    "np_list_of_words = np.asarray(flatten(list_of_words))  #to get all words in single list"
   ]
  },
  {
   "cell_type": "code",
   "execution_count": 30,
   "metadata": {},
   "outputs": [
    {
     "data": {
      "text/plain": [
       "143487"
      ]
     },
     "execution_count": 30,
     "metadata": {},
     "output_type": "execute_result"
    }
   ],
   "source": [
    "#unique words and count\n",
    "words, counts = np.unique(np_list_of_words, return_counts=True)\n",
    "len(words)"
   ]
  },
  {
   "cell_type": "code",
   "execution_count": 31,
   "metadata": {},
   "outputs": [],
   "source": [
    "#sorting words according to occurence\n",
    "freq, wrds = (list(i) for i in zip(*(sorted(zip(counts, words), reverse=True))))"
   ]
  },
  {
   "cell_type": "code",
   "execution_count": 32,
   "metadata": {},
   "outputs": [],
   "source": [
    "f_o_w = []\n",
    "n_o_w = []\n",
    "for f in sorted(np.unique(freq), reverse=True):      #making list for plotting \n",
    "    f_o_w.append(f)\n",
    "    n_o_w.append(freq.count(f))"
   ]
  },
  {
   "cell_type": "code",
   "execution_count": 34,
   "metadata": {},
   "outputs": [
    {
     "data": {
      "image/png": "[encoded data removed]",
      "text/plain": [
       "<Figure size 432x288 with 1 Axes>"
      ]
     },
     "metadata": {
      "needs_background": "light"
     },
     "output_type": "display_data"
    },
    {
     "name": "stdout",
     "output_type": "stream",
     "text": [
      "None\n"
     ]
    }
   ],
   "source": [
    "import matplotlib.pyplot as plt\n",
    "y = f_o_w\n",
    "x = n_o_w\n",
    "plt.xlim(0,250)\n",
    "plt.xlabel(\"No. of words\")\n",
    "plt.ylabel(\"Freq. of words\")\n",
    "plt.plot(x, y)\n",
    "plt.grid()\n",
    "print(plt.show())       "
   ]
  },
  {
   "cell_type": "code",
   "execution_count": 35,
   "metadata": {},
   "outputs": [
    {
     "name": "stdout",
     "output_type": "stream",
     "text": [
      "['writes', 'article', 'people', 'like', 'just', 'know', 'get', 'think', 'also', 'use', 'time', 'good', 'now', 'new', 'even', 'see', 'may', 'well', 'make', 'way', 'many', 'much', 'say', 'first', 'god', 'right', 'want', 'anyone', 'said', 'system', 'used', \"ax'ax'ax'ax'ax'ax'ax'ax'ax'ax'ax'ax'ax'ax'ax\", 'really', 'work', 'need', 'believe', 'something', 'since', 'still', 'please', 'problem', 'back', 'take', 'find', 'going', 'might', 'email', 'using', 'information', 'better', 'point', 'things', 'government', 'never', 'last', 'thanks', 'years', 'file', 'must', 'sure', 'without', 'another', 'someone', 'read', 'made', 'question', 'number', 'help', 'got', 'thing', 'year', 'etc', 'university', 'fact', 'look', 'part', 'world', 'windows', 'come', 'available', 'however', 'program', 'data', 'anything', 'little', 'drive', 'around', 'case', 'seems', 'give', 'true', 'law', 'probably', 'every', 'long', 'different', 'power', 'least', 'day', 'best', 'set', 'actually', 'try', 'put', 'tell', 'course', 'lot', 'state', 'enough', 'space', 'great', 'software', 'though', 'computer', 'car', 'either', 'nothing', 'real', 'game', 'far', 'says', 'jesus', 'run', 'mean', 'david', 'group', 'list', 'rather', 'life', 'possible', 'name', 'support', 'else', 'yes', 'wrong', 'reason', 'second', 'call', 'let', 'john', 'called', 'others', 'public', 'able', 'found', 'post', 'free', 'old', 'place', 'end', 'keep', 'ever', 'send', 'seen', 'hard', 'line', 'done', 'maybe', 'key', 'order', 'man', 'example', 'bad', 'following', 'next', 'person', 'bit', 'quite', 'wrote', 'general', 'always', 'yet', 'version', 'trying', 'thought', 'team', 'heard', 'looking', 'problems', 'subject', 'whether', 'means', 'files', 'card', 'given', 'high', 'idea', 'evidence', 'less', 'away', 'word', 'human', 'children', 'kind', 'seem', 'window', 'several', 'bill', 'getting', 'times', 'start', 'image', 'science', 'internet', 'book', 'phone', 'left', 'mail', 'makes', 'note', 'big', 'saying', 'control', 'systems', 'remember', 'perhaps', 'based', 'change', 'chip', 'research', 'opinions', 'already', 'source', 'standard', 'small', 'home', 'money', 'israel', 'today', 'jews', 'ask', 'christian', 'answer', 'agree', 'price', 'stuff', 'bible', 'national', 'fire', 'told', 'rights', 'ago', 'matter', 'local', 'issue', 'interested', 'large', 'running', 'came', 'pretty', 'hope', 'show', 'questions', 'whole', 'states', 'claim', 'religion', 'gun', 'works', 'address', 'code', 'mark', 'days', 'love', 'simply', 'american', 'news', 'often', 'current', 'message', 'original', 'info', 'feel', 'care', 'games', 'president', 'buy', 'box', 'play', 'church', 'full', 'pay', 'live', 'history', 'everything', 'understand', 'war', 'including', 'fbi', 'mind', 'center', 'everyone', 'started', 'important', 'almost', 'machine', 'graphics', 'open', 'truth', 'went', 'fax', 'comes', 'april', 'speed', 'include', 'certainly', 'turkish', 'cause', 'disk', 'although', 'instead', 'type', 'making', 'working', 'mac', 'guess', 'country', 'dos', 'christians', 'consider', 'hand', 'area', 'later', 'access', 'value', 'unless', 'men', 'tried', 'private', 'difference', 'side', 'christ', 'programs', 'copy', 'anyway', 'memory', 'write', 'armenian', 'net', 'faith', 'michael', 'black', 'ftp', 'cost', 'technology', 'paul', 'contact', 'jewish', 'death', 'objective', 'single', 'opinion', 'religious', 'sort', 'words', 'especially', 'sense', 'nice', 'clear', 'steve', 'likely', 'deal', 'within', 'argument', 'mike', 'talking', 'health', 'anybody', 'encryption', 'dead', 'similar', 'major', 'certain', 'display', 'provide', 'check', 'posting', 'earth', 'common', 'white', 'taken', 'police', 'couple', 'correct', 'service', 'hell', 'light', 'server', 'video', 'among', 'house', 'theory', 'saw', 'whatever', 'thus', 'killed', 'upon', 'win', 'simple', 'exactly', 'goes', 'color', 'fine', 'moral', 'asked', 'usually', 'reading', 'known', 'view', 'stop', 'sorry', 'jim', 'via', 'become', 'situation', 'package', 'books', 'position', 'company', 'took', 'press', 'laws', 'advance', 'armenians', 'per', 'personal', 'hockey', 'scsi', 'discussion', 'lines', 'interesting', 'sun', 'therefore', 'statement', 'body', 'mine', 'uses', 'rest', 'hear', 'experience', 'happened', 'groups', 'needs', 'application', 'third', 'night', 'particular', 'form', 'exist', 'according', 'wanted', 'hardware', 'security', 'months', 'past', 'force', 'board', 'sound', 'happen', 'easy', 'turn', 'text', 'period', 'ones', 'except', 'low', 'monitor', 'society', 'players', 'canada', 'business', 'size', 'israeli', 'fast', 'early', 'head', 'hit', 'accept', 'top', 'city', 'women', 'shall', 'longer', 'level', 'frank', 'due', 'guy', 'error', 'political', 'koresh', 'usa', 'recently', 'written', 'screen', 'model', 'expect', 'add', 'numbers', 'coming', 'format', 'effect', 'kill', 'special', 'insurance', 'taking', 'robert', 'members', 'lost', 'future', 'sell', 'gets', 'posted', 'inc', 'test', 'worth', 'sometimes', 'process', 'move', 'guns', 'ground', 'peace', 'united', 'job', 'front', 'users', 'talk', 'keys', 'outside', 'department', 'bike', 'clipper', 'cases', 'medical', 'doubt', 'face', 'office', 'offer', 'short', 'user', 'week', 'radio', 'red', 'involved', 'series', 'various', 'specific', 'school', 'explain', 'assume', 'james', 'season', 'dave', 'action', 'lord', 'images', 'result', 'network', 'federal', 'cars', 'soon', 'necessary', 'date', 'considered', 'weapons', 'thinking', 'reference', 'league', 'clinton', 'along', 'looks', 'gas', 'return', 'act', 'speak', 'mode', 'values', 'total', 'together', 'story', 'response', 'study', 'hold', 'york', 'results', 'water', 'plus', 'deleted', 'military', 'points', 'friend', 'drivers', 'million', 'claims', 'sources', 'previous', 'land', 'allow', 'willing', 'san', 'legal', 'report', 'leave', 'includes', 'close', 'behind', 'performance', 'output', 'knows', 'section', 'crime', 'driver', 'clearly', 'knowledge', 'runs', 'near', 'brian', 'apple', 'faq', 'bob', 'rate', 'ideas', 'present', 'peter', 'needed', 'road', 'freedom', 'wants', 'appreciated', 'policy', 'christianity', 'choice', 'build', 'sale', 'asking', 'sent', 'population', 'save', 'building', 'takes', 'parts', 'currently', 'voice', 'bus', 'strong', 'sounds', 'young', 'washington', 'interest', 'included', 'design', 'otherwise', 'comments', 'sin', 'exists', 'higher', 'baseball', 'reply', 'purpose', 'completely', 'mentioned', 'appears', 'ways', 'universe', 'rules', 'nature', 'directory', 'useful', 'unix', 'project', 'main', 'indeed', 'quality', 'none', 'court', 'manager', 'belief', 'living', 'complete', 'player', 'reasons', 'ram', 'institute', 'cut', 'applications', 'gives', 'international', 'follow', 'field', 'basis', 'air', 'newsgroup', 'meaning', 'inside', 'built', 'son', 'existence', 'created', 'child', 'suggest', 'morality', 'media', 'faster', 'issues', 'bought', 'individual', 'tape', 'division', 'supposed', 'average', 'anonymous', 'father', 'die', 'obviously', 'cover', 'batf', 'lots', 'development', 'create', 'command', 'weeks', \"god's\", 'gave', 'basic', 'serious', 'normal', 'difficult', 'looked', 'armenia', 'thank', 'term', 'machines', 'finally', 'family', 'wait', 'drug', 'directly', 'chance', 'engineering', 'drives', 'muslims', 'scientific', 'neither', 'shot', 'manual', 'arms', 'folks', 'turkey', 'paper', 'event', 'wish', 'launch', 'language', 'figure', 'site', 'reasonable', 'page', 'illegal', 'apr', 'required', 'mouse', 'learn', 'entire', 'carry', 'wonder', 'terms', 'cards', 'base', 'plan', 'function', 'actions', 'attack', 'technical', 'food', 'context', 'device', 'responsible', 'whose', 'arab', 'tom', 'definition', 'room', 'received', 'dod', 'serial', 'places', 'changed', 'unfortunately', 'party', 'amount', 'lives', 'events', 'engine', 'cable', 'ibm', 'disclaimer', 'wondering', 'prove', 'class', 'related', 'happens', 'genocide', 'stated', 'rule', 'mass', 'community', 'algorithm', 'reality', 'entry', 'recent', 'market', 'services', 'record', 'america', 'volume', 'mention', 'extra', 'condition', 'bring', 'miles', 'facts', 'account', 'hours', 'details', 'compound', 'controller', 'allowed', 'suppose', 'reports', 'muslim', 'half', 'easily', 'break', 'smith', 'reported', 'generally', 'method', 'devices', 'designed', 'modem', 'limited', 'knew', 'eric', 'blue', 'organization', 'object', 'bbs', 'street', 'motif', 'btw', 'product', 'citizens', 'stupid', 'continue', 'apparently', 'secret', 'russian', 'require', 'request', 'fan', 'door', 'thomas', 'safety', 'lead', 'commercial', 'alone', 'official', 'late', 'forget', 'author', 'attempt', 'nasa', 'final', 'died', 'turks', 'lack', 'ide', 'physical', 'george', 'defense', 'happy', 'decided', 'california', 'usenet', 'toronto', 'obvious', 'hate', 'library', 'companies', 'imagine', 'analysis', 'yeah', 'watch', 'south', 'guys', 'age', 'worked', 'release', 'material', 'abortion', 'teams', 'andrew', 'administration', 'north', 'disease', 'trouble', 'station', 'starting', 'quote', 'false', 'appear', 'privacy', 'germany', 'evil', 'drugs', 'congress', 'apply', 'scott', 'protect', 'greek', 'enforcement', 'interface', 'coverage', 'avoid', 'installed', 'environment', 'brought', 'across', 'tax', 'excellent', 'stand', 'port', 'suspect', 'lower', 'title', 'boston', 'chris', 'texas', 'addition', 'worse', 'widget', 'pick', 'input', 'goal', 'friends', 'choose', 'natural', 'middle', 'wife', 'gone', 'digital', 'sex', 'practice', 'murder', 'internal', 'beyond', 'views', 'held', 'possibly', 'authority', 'western', 'month', 'turned', 'solution', 'jon', 'areas', 'search', 'pass', 'hands', 'contains', 'richard', 'costs', 'bits', 'west', 'shows', 'member', 'fall', 'basically', 'unit', 'former', 'equipment', 'advice', 'giving', 'blood', 'appreciate', 'understanding', 'supply', 'range', 'oil', 'posts', 'perfect', 'matthew', 'somebody', 'printer', 'letter', 'americans', 'decision', 'trust', 'necessarily', 'east', 'dan', 'countries', 'heaven', 'earlier', 'cheap', 'regarding', 'mother', 'logic', 'conference', 'appropriate', 'ability', 'provided', 'poor', 'killing', 'atheists', 'articles', 'approach', 'particularly', 'fairly', 'comment', 'college', 'shipping', 'green', 'communications', 'requires', 'fans', 'heart', 'arguments', 'tools', 'seriously', 'chips', 'caused', 'beginning', 'tim', 'playing', 'define', 'calls', 'acts', 'treatment', 'references', 'played', 'joe', 'stay', 'effective', 'resources', 'king', 'des', 'amendment', 'studies', 'somewhere', 'prevent', 'increase', 'homosexual', 'holy', 'fit', 'civil', 'products', 'energy', 'described', 'writing', 'majority', 'greatly', 'absolutely', 'vote', 'respect', 'nhl', 'march', 'modern', 'homosexuality', 'hello', 'suggestions', 'sold', 'firearms', 'andor', 'spirit', 'programming', 'names', 'minutes', 'hey', 'straight', 'serve', 'secure', 'recall', 'realize', 'print', 'pat', 'merely', 'europe', 'closed', 'art', 'waco', 'picture', 'statements', 'protection', 'pain', 'mailing', 'direct', 'agents', 'proof', 'considering', 'beliefs', 'social', 'personally', 'keith', 'handle', 'effort', 'expensive', 'assuming', 'published', 'notice', 'cpu', 'chicago', 'aware', 'shuttle', 'paid', 'led', 'judge', 'independent', 'specifically', 'soviet', 'regular', 'percent', 'meant', 'driving', 'actual', 'switch', 'distribution', 'responsibility', 'intended', 'decide', 'constitution', 'trade', 'behavior', 'option', 'justice', 'dept', 'concerned', 'won', 'tel', 'calling', 'begin', 'standards', 'provides', 'draw', 'cancer', 'spend', 'proper', 'changes', 'receive', 'popular', 'nsa', 'soldiers', 'dangerous', 'added', 'pages', 'objects', 'bunch', 'atheism', 'army', 'morning', 'moment', 'developed', 'pgp', 'dealer', 'student', 'prices', 'electronic', 'towards', 'patients', 'convert', 'types', 'respond', 'newsgroups', 'impossible', 'hot', 'cult', 'activities', 'safe', 'orbit', 'mission', 'font', 'count', 'clock', 'british', 'branch', 'multiple', 'models', 'fonts', 'education', 'concept', 'charge', 'atheist', 'sites', 'seeing', 'prefer', 'allows', 'significant', 'satellite', 'remote', 'kept', 'fully', 'effects', 'errors', 'argue', 'thread', 'share', 'committee', 'ray', 'ken', 'eternal', 'admit', 'processing', 'noticed', 'floppy', 'entirely', 'disks', 'arabs', 'islam', 'hole', 'disagree', 'compared', 'born', 'nobody', 'fear', 'shown', 'mary', 'fair', 'copies', 'claimed', 'risk', 'doug', 'bear', 'warrant', 'sexual', 'operation', 'besides', 'possibility', 'latest', 'accepted', 'selling', 'joseph', 'block', 'woman', 'property', 'failed', 'weapon', 'produce', 'options', 'cup', 'buying', 'signal', 'rob', 'properly', 'greater', 'speaking', 'additional', 'supports', 'slow', 'putting', \"o'dwyer\", 'mostly', 'mhz', 'loss', 'features', 'expected', 'easier', 'answers', 'setting', 'os2', 'armed', 'physics', 'msg', 'magazine', 'conclusion', 'stephen', 'ride', 'professor', 'nuclear', 'jack', 'keyboard', 'install', 'expressed', 'colors', 'trial', 'step', 'tend', 'microsoft', 'fight', 'creation', 'vehicle', 'supported', 'gary', 'escrow', 'defined', 'status', 'quick', 'jpeg', 'description', 'throw', 'separate', 'messages', 'meet', 'medicine', 'kids', 'highly', 'european', 'aids', 'review', 'immediately', 'fun', 'english', 'thousands', 'table', 'luck', 'versions', 'taxes', 'scripture', 'proposed', 'lee', 'larry', 'humans', 'heat', 'forces', 'criminals', 'resolution', 'innocent', 'forward', 'yesterday', 'transfer', 'round', 'larger', 'individuals', 'external', 'document', 'attention', 'town', 'nation', 'knowing', 'valid', 'postscript', 'pittsburgh', 'missing', 'causes', 'pressure', 'training', 'los', 'despite', 'brain', 'anywhere', 'accurate', 'vga', 'owners', 'lose', 'warning', 'regards', 'foreign', 'double', 'wire', 'released', 'pts', 'passed', 'moving', 'jeff', 'escape', 'committed', 'believed', 'became', 'absolute', 'totally', 'somehow', 'resource', 'quickly', 'instance', 'german', 'ready', 'path', 'equal', 'doctor', 'wide', 'telephone', 'seemed', 'islamic', 'determine', 'advantage', 'weight', 'van', 'ron', 'piece', 'motherboard', 'flame', 'drop', 'connection', 'troops', 'reach', 'obtain', 'gay', 'everybody', 'discuss', 'circuit', 'xterm', 'noise', 'eyes', 'catholic', 'welcome', 'typical', 'race', 'moon', 'jobs', 'intelligence', 'gif', 'criminal', 'connected', 'showed', 'roger', 'frame', 'adl', 'rates', 'myers', 'ball', 'telling', 'keeping', 'industry', 'definitely', 'alan', 'spent', 'self', 'remove', 'potential', 'nearly', 'meg', 'lab', 'hall', 'goals', 'character', 'began', 'agencies', 'battery', 'tool', 'isa', 'evolution', 'degree', 'beat', 'william', 'wall', 'functions', 'attacks', 'andy', 'sunday', 'random', 'listen', 'compatible', 'century', 'activity', 'traffic', 'somewhat', 'setup', 'license', 'client', 'bodies', 'role', 'guide', 'georgia', 'existing', 'examples', 'direction', 'computers', 'attitude', 'archive', 'wings', 'watching', 'waiting', 'load', 'follows', 'debate', 'alternative', 'afraid', 'surface', 'fix', 'eventually', 'domain', 'alive', 'purposes', 'purchase', 'minor', 'authorities', 'ahead', 'agency', 'helps', 'gotten', 'gmt', 'compare', 'stick', 'sign', 'limit', 'recognize', 'quoted', 'lived', 'cross', 'charles', 'background', 'waste', 'usual', 'shell', 'religions', 'postings', 'parents', 'kent', 'cold', 'becomes', 'audio', 'upgrade', 'offers', 'methods', 'kevin', 'generation', 'feet', 'eat', 'brother', 'blame', 'uucp', 'sick', 'gods', 'angeles', 'ran', 'heavy', 'documentation', 'davidians', 'atf', 'active', 'visual', 'radar', 'master', 'documents', 'shooting', 'remain', 'relationship', 'drawing', 'clutch', 'worry', 'replaced', 'positive', 'lie', 'tells', 'fuel', 'francisco', 'depends', 'computing', 'summer', 'speech', 'pointed', 'normally', 'levels', 'flames', 'carried', 'truly', 'solid', 'slightly', 'replace', 'movement', 'formats', 'defend', 'cheaper', 'topic', 'tank', 'success', 'russia', 'organizations', 'okay', 'moved', 'huge', 'governments', 'assault', 'persons', 'june', 'ice', 'detroit', 'bruce', 'bet', 'store', 'starts', 'older', 'host', 'exact', 'rich', \"one's\", 'male', 'followed', 'broken', 'bank', 'star', 'flight', 'clean', 'toward', 'session', 'refer', 'daily', 'canadian', 'translation', 'strange', 'raised', 'pictures', 'legitimate', 'leaders', 'imho', 'editor', 'economic', 'damage', 'complex', 'cheers', 'australia', 'surely', 'operations', 'noted', 'judgement', 'interpretation', 'int', 'hardly', 'funny', 'don', 'phil', 'openwindows', 'missed', 'fighting', 'employer', 'boards', 'associated', 'suggested', 'saved', 'pro', 'jehovah', 'greg', 'export', 'online', 'nazi', 'mountain', 'morris', 'jose', 'dog', 'crypto', 'summary', 'sides', 'showing', 'sets', 'reduce', 'onto', 'lies', 'length', 'gateway', 'encrypted', 'capable', 'automatic', 'annual', 'statistics', 'solar', 'roads', 'punishment', 'pin', 'mistake', 'draft', 'develop', 'attorney', 'relevant', 'rangers', 'proposal', 'paying', 'militia', 'applied', 'tanks', 'simms', 'select', 'responses', 'regard', 'park', 'marriage', 'lists', 'ignore', 'ford', 'default', 'conditions', 'biblical', 'worst', 'management', 'homosexuals', 'espn', 'cops', 'amiga', 'operating', 'felt', 'doctors', 'decent', 'damn', 'curious', 'correctly', 'billion', 'threat', 'sig', 'readers', 'lock', 'journal', 'items', 'forced', 'excuse', 'claiming', 'cambridge', 'winning', 'situations', 'presented', 'officers', 'leads', 'eye', 'edge', 'worship', 'vancouver', 'papers', 'opposed', 'louis', 'location', 'initial', 'historical', 'guilty', 'fixed', 'culture', 'structure', 'scheme', 'primary', 'plans', 'meeting', 'feeling', 'conflict', 'violence', 'villages', 'tear', 'students', 'stories', 'seconds', 'opportunity', 'officials', 'leafs', 'frankd012s658uucp', 'connect', 'cache', 'terminal', 'temperature', 'surprised', 'plain', 'extremely', 'explanation', 'consistent', 'civilians', 'cdrom', 'adam', 'acceptable', 'sending', 'nazis', 'kinds', 'join', 'iii', 'hospital', 'engineer', 'tests', 'shots', 'powerful', 'perfectly', 'parallel', 'palestinian', 'discovered', 'association', 'prior', 'poster', 'philadelphia', 'parties', 'gain', 'doctrine', 'differences', 'covered', 'bytes', 'bmw', 'benefit', 'ted', 'strongly', 'smaller', 'matters', 'fault', 'bios', 'sky', 'recommend', 'providing', 'named', 'corporation', 'assumption', 'allen', 'afford', 'playoffs', 'owner', 'originally', 'measure', 'jew', 'hearing', 'discussions', 'demand', 'central', 'carrying', 'village', 'stats', 'pray', 'music', 'monitors', 'miller', 'max', 'gordon', 'convention', 'concerning', 'button', 'bay', 'turns', 'sleep', 'palestinians', 'leading', 'holes', 'grant', 'forever', 'entries', 'bell', 'x11r5', 'thinks', 'nec', 'leader', 'hence', 'fail', 'discussed', 'daniel', 'caught', 'anymore', 'track', 'ryan', 'relatively', 'regardless', 'mit', 'minute', 'macintosh', 'listed', 'essentially', 'depending', 'dark', 'changing', 'walk', 'visible', 'tech', 'stopped', 'finding', 'established', 'contrary', 'throughout', 'stars', 'raise', 'overall', 'neutral', 'nations', 'minority', 'manner', 'factor', 'electronics', 'colorado', 'bottom', 'astronomy', 'announced', 'advanced', 'x11', 'twice', 'sitting', 'reliable', 'ordered', 'occur', 'ensure', 'dealing', 'cal', 'bush', 'hurt', 'director', 'compression', 'checked', 'animals', 'transmission', 'toolkit', 'sufficient', 'penalty', 'letters', 'followers', 'deep', 'aside', 'apart', 'vitamin', 'reaction', 'proven', 'produced', 'paragraph', 'logical', 'floor', 'electrical', 'deaths', 'concern', 'burned', 'auto', 'addresses', 'tony', 'stephanopoulos', 'reasoning', 'origin', 'offered', 'learned', 'backup', 'agreement', 'remains', 'mormons', 'montreal', 'maintain', 'island', 'holding', 'dec', 'abuse', 'stream', 'replies', 'placed', 'jason', 'weak', 'thoughts', 'sports', 'rocket', 'rock', 'motorcycle', 'item', 'funds', 'failure', 'comparison', 'clayton', 'bother', 'unlike', 'rear', 'investigation', 'budget', 'banks', 'ati', 'testament', 'pull', 'packages', 'hour', 'enter', 'enjoy', 'dollars', 'attempts', 'virtual', 'style', 'spread', 'scsi2', 'riding', 'requirements', 'region', 'quotes', 'latter', 'increased', 'happening', 'distributed', 'database', 'chapter', 'brand', 'atlanta', 'widgets', 'laboratory', 'familiar', 'experiences', 'braves', 'allowing', 'xsoviet', 'variety', 'scientists', 'sales', 'msdos', 'mon', 'hiv', 'henry', 'foundation', 'crimes', 'containing', 'careful', 'brad', 'senate', 'requests', 'removed', 'presence', 'ports', 'math', 'fundamental', 'distance', 'club', 'channel', 'string', 'ontario', 'laser', 'irrelevant', 'douglas', 'applies', 'unto', 'tested', 'resistance', 'registration', 'printing', 'occurs', 'motion', 'london', 'loaded', 'lights', 'honda', 'hitting', 'focus', 'equivalent', 'driven', 'describe', 'craig', 'burning', 'ancient', 'talks', 'spending', 'shit', 'seattle', 'processor', 'prepared', 'panel', 'palestine', 'ourselves', 'martin', 'fred', 'feds', 'colour', 'boxes', 'birth', 'violent', 'shareware', 'sample', 'planet', 'passes', 'instructions', 'frequently', 'figures', 'experts', 'edition', 'corp', 'convinced', 'configuration', 'cities', 'circumstances', 'char', 'azerbaijan', 'agent', 'univ', 'rid', 'installation', 'honest', 'efforts', 'boy', 'zone', 'ticket', 'sit', 'quadra', 'previously', 'patient', 'notes', 'newsletter', 'match', 'marc', 'illinois', 'dont', 'convince', 'contain', 'xview', 'victims', 'utility', 'purchased', 'mechanism', 'massacre', 'ignorance', 'border', 'unable', 'turbo', 'theories', 'technologies', 'taught', 'subjective', 'secretary', 'plenty', 'met', 'matt', 'istanbul', 'fee', 'detail', 'destroyed', 'desire', 'dennis', 'clh', \"bd's\", 'zero', 'verses', 'unlikely', 'spring', 'lets', 'forms', 'cramer', 'arm', 'adams', 'voltage', 'vision', 'suicide', 'suggestion', 'stanley', 'shape', 'relative', 'referring', 'primarily', 'obtained', 'literature', 'justify', 'july', 'hundreds', 'commands', 'clients', 'bosnia', 'xlib', 'understood', 'teach', 'supposedly', 'soul', 'romans', 'production', 'plastic', 'link', 'helpful', 'gravity', 'carefully', 'bikes', 'believes', 'att', 'agreed', 'terrorist', 'rape', 'minnesota', 'messiah', 'libertarian', 'impact', 'grace', 'echo', 'credit', 'continued', 'collection', 'brown', 'wisdom', 'tradition', 'standing', 'spacecraft', 'southern', 'revelation', 'procedure', 'mathew', 'incident', 'highest', 'glad', 'feature', 'elohim', 'believing', 'automatically', 'assertion', 'wiring', 'wiretap', 'wheel', 'signed', 'shared', 'rider', 'planning', 'kingdom', 'jets', 'indicate', 'heads', 'granted', 'french', 'dictionary', 'adapter', 'units', 'techniques', 'sentence', \"people's\", 'hopefully', 'hitler', 'frequency', 'fired', 'citizen', 'checking', 'assumed', 'appeared', 'surprise', 'pens', 'passage', 'liberal', 'johnson', 'jerusalem', 'japanese', 'israelis', 'holocaust', 'greece', 'ends', 'conversation', 'capability', 'buffalo', 'wonderful', 'target', 'survivors', 'solutions', 'observations', 'map', 'luke', 'liberty', 'interests', 'imply', 'equally', 'defensive', 'content', 'bruins', 'aspects', 'aid', 'wayne', 'testing', 'terrorism', 'suffering', 'stolen', 'sad', 'routines', 'rick', 'repeat', 'perform', 'orthodox', 'occupied', 'nick', 'fields', 'cycle', 'conversion', 'sweden', 'successful', 'storage', 'sea', 'reduced', 'mormon', 'lay', 'implementation', 'immoral', 'hat', 'expansion', 'elements', 'decisions', 'cool', 'baby', 'wave', 'verse', 'stage', 'shoot', 'servers', 'served', 'scientist', 'officer', 'null', 'leaving', 'helped', 'february', 'describes', 'churches', 'chose', 'career', 'bitnet', 'biggest', 'bigger', 'battle', 'slave', 'schools', 'scale', 'reflect', 'pixel', 'pitching', 'patrick', 'funding', 'explained', 'characters', 'boot', 'talked', 'republic', 'principles', 'phones', 'offensive', 'lying', 'index', 'importance', 'eisa', 'effectively', 'bug', 'accident', 'stands', 'sins', 'professional', 'plug', 'phrase', 'perspective', 'millions', 'menu', 'lunar', 'learning', 'iran', 'hitter', 'harm', 'eastern', 'det', 'december', 'belong', 'accuracy', 'wars', 'treated', 'thou', 'staff', 'seek', 'planned', 'ottawa', 'orders', 'lucky', 'infection', 'france', 'fly', 'destruction', 'chosen', 'votes', 'swap', 'serdar', 'rsa', 'returned', 'resurrection', 'reached', 'rational', 'raid', 'principle', 'practical', 'picked', 'minds', 'lebanon', 'intel', 'improve', 'global', 'firearm', 'deny', 'cryptography', 'controlled', 'connector', 'capital', 'blues', 'whenever', 'unknown', 'stuck', 'sony', 'slower', 'similarly', 'signature', 'shift', 'satan', 'reverse', 'presumably', 'policies', 'pitch', 'opening', 'opened', 'notion', 'mainly', 'hits', 'friday', 'favor', 'economy', 'core', 'contest', 'chemical', 'union', 'tires', 'thrown', 'survey', 'sequence', 'scoring', 'root', 'progress', 'proceeded', 'probe', 'philosophy', 'modes', 'maximum', 'fourth', 'falls', 'extreme', 'existed', 'england', 'engines', 'danger', 'crazy', 'communication', 'coach', 'caps', 'wins', 'usage', 'stone', 'stock', 'split', 'significantly', 'scored', 'ripem', 'positions', 'manuals', 'hst', 'gospel', 'generate', 'flat', 'fails', 'critical', 'confused', 'turning', 'supporting', 'spiritual', 'sox', 'silly', 'senior', 'sandviknewtonapplecom', 'represent', 'que', 'protocol', 'perry', 'ottoman', 'networks', 'negative', 'motorola', 'intent', 'fellow', 'exercise', 'elsewhere', 'divine', 'displays', 'deserve', 'council', 'answered', 'utilities', 'symptoms', 'spencer', 'sorts', 'shut', 'serbs', 'seat', 'politics', 'neighbors', 'handgun', 'finish', 'developing', 'converter', 'components', 'charges', 'bugs', 'broke', 'bos', 'accounts', 'aaron', '24bit', 'wood', 'wild', 'treat', 'score', 'playoff', 'plane', 'manufacturers', 'kit', 'joke', 'greeks', 'gonna', 'extended', 'destroy', 'contract', 'chief', 'buffer', 'steven', 'register', 'managed', 'copyright', 'winnipeg', 'widely', 'suit', 'subscribe', 'recommended', 'protected', 'printed', 'permission', 'oname', 'non', 'metal', 'impression', 'fill', 'ethnic', 'diet', 'corner', 'clinical', 'attacked', 'virtually', 'teaching', 'stored', 'socalled', 'rom', 'replacement', 'reno', 'projects', 'opposite', 'lawrence', 'introduction', 'foot', 'exchange', 'dream', 'determined', 'detector', 'dealers', 'cubs', 'beings', 'app', 'affect', 'useless', 'universal', 'sternlight', 'speeds', 'salt', 'records', 'predictions', 'morals', 'located', 'libraries', 'huh', 'hoping', 'extent', 'experiment', 'edward', 'drink', 'desktop', 'dear', 'chemistry', 'traded', 'resulting', 'refuse', 'referred', 'quantum', 'minimum', 'lebanese', 'lake', 'grounds', 'gaza', 'contents', 'compromise', 'bosnian', 'associate', 'ass', 'archives', 'amateur', 'wearing', 'tor', 'thanx', 'surrender', 'smoke', 'shop', 'roman', 'ridiculous', 'propaganda', 'precisely', 'pope', 'plays', 'pit', 'performed', 'passing', 'organized', 'observed', 'newer', 'listening', 'conclusions', 'closer', 'classified', 'catch', 'assistance', 'assembly', 'argic', \"ain't\", 'terrorists', 'prime', 'pitcher', 'offense', 'miss', 'kings', 'jump', 'insert', 'ignorant', 'furthermore', 'fund', 'ethernet', 'degrees', 'bullock', 'traditional', 'till', 'superior', 'smart', 'rose', 'ring', 'push', 'prayer', 'limits', 'lewis', 'indicates', 'forth', 'finished', 'eating', 'chi', 'centris', 'binary', 'wear', 'violation', 'strip', 'scsi1', 'russell', 'relations', 'paint', 'numerous', 'holds', 'famous', 'empire', 'discussing', 'cultural', 'camera', 'amazing', 'algorithms', 'adding', 'suddenly', 'murray', 'measures', 'era', 'creating', 'captain', 'breaking', 'blow', 'batting', 'apartment', 'announcement', 'amp', 'task', 'stereo', 'spot', 'specs', 'refused', 'programmer', 'platform', 'penguins', 'packet', 'keeps', 'guarantee', 'formed', 'diamond', 'converted', 'civilian', 'campaign', 'vlb', 'typically', 'solve', 'salvation', 'sake', 'portable', 'platforms', 'mars', 'loop', 'karl', 'jonathan', 'janet', 'issued', 'hebrew', 'francis', 'forgot', 'fool', 'flow', 'extension', 'crowd', 'colormap', 'chain', 'canon', 'becoming', 'bases', 'apps', 'animation', 'visit', 'touch', \"today's\", 'sells', 'sector', 'recognized', 'quit', 'percentage', 'passages', 'odd', 'occupation', 'nonsense', 'movie', 'justification', 'helmet', 'harder', 'favorite', 'daughter', 'crap', 'byte', 'angels', 'tiff', 'randy', 'patch', 'motor', 'materials', 'married', 'incorrect', 'identical', 'hidden', 'handling', 'greatest', 'ended', 'dean', 'chances', 'centre', 'burn', 'bat', 'approved', 'apparent', 'wolverine', 'tower', 'technique', 'supreme', 'suggests', 'scores', 'owned', 'leadership', 'jersey', 'january', 'involve', 'generated', 'forum', 'florida', 'finland', 'fell', 'feed', 'duty', 'dropped', 'drawn', 'continues', 'band', 'unusual', 'truck', 'sunos', 'selection', 'receiving', 'pure', 'portion', 'newspaper', 'mask', 'guaranteed', 'flying', 'finger', 'families', 'educational', 'consequences', 'austin', 'august', 'animal', 'walker', 'vehicles', 'spoke', 'rise', 'prophecy', 'mouth', 'minister', 'losing', 'husband', 'empty', 'diseases', 'depth', 'comprehensive', 'brake', 'bonds', 'atmosphere', 'weird', 'tapes', 'suffer', 'strategy', 'skin', 'selected', 'revolution', 'quebec', 'pulled', 'ordinary', 'nra', 'jerry', 'immediate', 'houses', 'grand', 'essential', 'electric', 'dale', 'concerns', 'calgary', 'bar', 'authors', 'attached', 'ahl', 'workers', 'wires', 'update', 'tough', 'territory', 'sam', 'rely', 'registered', 'plate', 'ohanus', 'jones', 'islanders', 'heck', 'fpu', 'fits', 'cnn', 'bobby', 'arguing', 'aka', 'witnesses', 'wise', 'weekend', 'trip', 'sharks', 'sgi', 'severe', 'revealed', 'remaining', 'phase', 'lady', 'justified', 'intelligent', 'hide', 'gamma', 'fat', 'devils', 'dare', 'cursor', 'bitmap', 'vram', 'vol', 'virginia', 'ultra', 'tonight', 'throwing', 'threw', 'strike', 'sport', 'promised', 'pattern', 'observation', 'manage', 'identify', 'houston', 'facility', 'expert', 'duo', 'drag', 'construction', 'burden', 'bound', 'baltimore', 'attempting', 'appressian', 'williams', 'tube', 'tired', 'settings', 'routine', 'quiet', 'penalties', 'northern', 'letting', 'instruction', 'imaging', 'gerald', 'film', 'controls', 'conservative', 'complain', 'commit', 'brothers', 'blind', 'artificial', 'acid', 'secular', 'sciences', 'prophet', 'pieces', 'monday', 'leaves', 'interactive', 'harry', 'factors', 'explicitly', 'dma', 'classes', 'broadcast', 'brett', 'absurd', 'variable', 'topics', 'silence', 'signals', 'santa', 'reads', 'massive', 'legally', 'laugh', 'jays', 'infinite', 'idle', 'horizon', 'hill', 'glory', 'gear', 'fallacy', 'element', 'doors', 'detectors', 'compile', 'competition', 'cobb', 'closely', 'challenge', 'carl', 'capabilities', 'azerbaijani', 'amounts', 'abc', 'whoever', 'utah', 'taste', 'super', 'square', 'ship', 'saturday', 'sahak', 'remark', 'printers', 'pete', 'melkonian', 'linux', 'jet', 'intend', 'hmmm', 'gold', 'fifth', 'exception', 'esus', 'dogs', 'dick', 'detailed', 'crack', 'constitutional', 'compuserve', 'catalog', 'bullet', 'azeri', 'abortions', 'television', 'silver', 'roy', 'raw', 'puck', 'practices', 'pool', 'opposition', 'netters', 'implies', 'implemented', 'dying', 'chinese', 'cares', 'awful', 'tie', 'terrible', 'spare', 'purely', 'preferred', 'hypothesis', 'experimental', 'everywhere', 'dry', 'conclude', 'combination', 'buf', 'bomb', 'atoms', 'venus', 'unique', 'tuesday', 'tree', 'territories', 'suite', 'suffered', 'stable', 'satellites', 'prince', 'powers', 'permanent', 'japan', 'implement', 'dreams', 'depend', 'denied', 'crash', 'conversations', 'complaints', 'carter', 'bag', '8bit', 'vesa', 'talent', 'reasonably', 'pair', 'occurred', 'neighbor', 'modified', 'michigan', 'marketing', \"man's\", 'facilities', 'evening', 'detect', 'davis', 'commonly', 'combined', 'clark', 'cells', 'approximately', 'worried', 'witness', 'wilson', 'travel', 'texts', 'survive', 'surgery', 'signs', 'sections', 'scriptures', 'roughly', 'risc', 'rarely', 'rare', 'puts', 'missions', 'ministry', 'mental', 'lemieux', 'kenneth', 'horrible', 'entered', 'einstein', 'disciples', 'diego', 'beast', 'ban', 'ave', 'arrest', 'anderson', 'yeast', 'xtermination', 'workstation', 'updated', 'timothy', 'testimony', 'svga', 'specify', 'sean', 'russians', 'rush', 'restrictions', 'repeated', 'rejected', 'propulsion', 'prison', 'oul', 'mistakes', 'membership', 'manipulation', 'liked', 'jackson', 'influence', 'grow', 'girls', 'gee', 'firm', 'express', 'establish', 'entitled', 'classic', 'circuits', 'centers', 'campus', 'behaviour', 'balance', 'wind', 'watched', 'warranty', 'thru', 'slaughter', 'repair', 'pins', 'ohio', 'neat', 'modems', 'instruments', 'ideal', 'highway', 'girl', 'edmonton', 'davidian', 'consideration', 'columbia', 'causing', 'balls', 'agenda', 'vertical', 'trick', 'thursday', 'theology', 'stupidity', 'slot', 'sir', 'schedule', 'river', 'reserve', 'reform', 'properties', 'promise', 'planetary', 'objectively', 'native', 'mutual', 'increases', 'ignored', 'horizontal', 'choices', 'appearance', 'steel', 'stealth', 'snow', 'sabbath', 'mirror', 'mathematics', 'injury', 'humanity', 'hulk', 'gant', 'gang', 'exit', 'custom', 'constant', 'confusion', 'concrete', 'clue', 'christopher', 'cat', 'capacity', 'bright', 'biased', 'beautiful', 'beach', 'arrogant', 'whereas', 'switzerland', 'suitable', 'struggle', 'sincerely', 'saturn', 'rev', 'reject', 'procedures', 'permit', 'legislation', 'kid', 'informed', 'hook', 'freely', 'feelings', 'dollar', 'complicated', 'cobbalexialisuiucedu', 'centuries', 'brief', 'ames', 'x11r4', 'vast', 'vary', 'tap', 'stood', 'speaker', 'rochester', 'pushed', 'predict', 'partners', 'nyi', 'nose', 'min', 'listing', 'junk', 'jumper', 'inhabitants', 'hmm', 'ghost', 'filled', 'figured', 'feels', 'cop', 'compiled', 'comparable', 'cellular', 'avenue', 'advertising', 'acting', '32bit', 'valuable', 'upset', 'tickets', 'theists', 'substantial', 'submit', 'speakers', 'route', 'returns', 'passenger', 'nubus', 'megs', 'manufacturer', 'magic', 'jan', 'irrational', 'involves', 'investment', 'height', 'guard', 'grenades', 'enemy', 'efficient', 'domestic', 'correction', 'confusing', 'commandments', 'bullshit', 'borders', 'benefits', 'beer', 'asks', 'alleged', 'affected', 'tomorrow', 'strictly', 'serves', 'rendering', 'remarks', 'regularly', 'officially', 'october', 'nowhere', 'naturally', 'mount', 'login', 'livesey', \"koresh's\", \"israel's\", 'isbn', 'introduced', 'homes', 'hicnet', 'henryzootorontoedu', 'growth', 'genesis', 'enemies', 'dozen', 'differently', 'demo', 'covenant', 'commitment', 'category', 'begins', 'aspect', 'arrived', 'appeal', 'analogy', 'ama', 'adaptec', 'achieve', 'writer', 'toyota', 'todd', 'theism', 'stl', 'specified', 'scorer', 'repeatedly', 'removing', 'refers', 'realized', 'pitchers', 'participate', 'mix', 'lawyer', 'income', 'helping', 'header', 'friendly', 'filter', 'experienced', 'demonstrated', 'democratic', 'definitions', 'criticism', 'workstations', 'whatsoever', 'tries', 'strength', 'speculation', 'socket', 'publication', 'proud', 'premise', 'loved', 'kurds', 'invasion', 'improvement', 'impressed', 'imo', 'gerard', 'expose', 'emphasis', 'describing', 'conspiracy', 'chronic', 'candidates', 'attacking', 'assumptions', 'alot', 'alcohol', 'zionist', 'wednesday', 'voting', 'v32bis', 'tobacco', 'tied', 'shaft', 'rocks', 'responding', 'represents', 'proved', 'preferably', 'pointing', 'orbital', 'murdered', 'minimal', 'labs', 'josh', \"it'll\", 'healthy', 'hatred', 'guidelines', 'gregg', 'exposure', 'directed', 'concealed', 'boulder', 'analog', 'accelerator', 'writings', 'weather', 'viewer', 'temporary', 'switching', 'sumgait', 'stronger', 'spectrum', 'ratio', 'psalm', 'plant', 'mitchell', 'liar', 'launched', 'labor', 'indication', 'flag', 'environmental', 'democracy', 'deals', 'cell', 'bandwidth', 'ascii', 'angle', 'africa', 'upper', 'thats', 'stops', 'scan', 'requested', 'relativism', 'reader', 'priest', 'norton', 'navy', 'mustang', 'mile', 'meaningless', 'magazines', 'linked', 'iron', 'hudson', 'growing', 'garbage', 'female', \"else's\", 'cooperation', 'converting', 'candida', 'bucks', 'brakes', 'blah', 'adults', 'tends', 'temple', 'syndrome', 'substance', 'researchers', 'rent', 'remind', 'regulations', 'produces', 'prayers', 'plot', 'outlets', 'orientation', 'mechanical', 'mario', 'largely', 'instrument', 'insist', 'improved', 'hotel', 'graham', 'geometry', 'feb', 'edit', 'derek', 'dallas', 'cyprus', 'county', 'contribute', 'contained', 'compressed', 'chuck', 'burst', 'bullets', 'bombing', 'baptism', 'award', 'victim', 'uniform', 'ultimate', 'teachings', 'switches', 'suck', 'steps', 'silicon', 'persecution', 'pack', 'mounted', 'incredibly', 'inches', 'homeland', 'gulf', 'giants', 'fathers', 'encourage', 'eff', 'distinction', 'dispute', 'delivery', 'convenient', 'conduct', 'component', 'communities', 'busy', 'ankara', 'adult', 'academic', 'yassin', 'species', 'spec', 'soft', 'sacrifice', 'profit', 'polygon', 'moses', 'mess', 'mathematical', 'log', 'liveseysolntzewpdsgicom', 'knock', 'interpret', 'intellectual', 'indicated', 'increasing', 'grab', 'expression', 'egypt', 'drove', 'deskjet', 'consent', 'brent', 'blocks', 'bias', 'availability', 'antenna', 'alternatives', 'alexander', 'walking', 'trials', 'tiny', 'stating', 'startup', 'saves', 'responded', 'psalms', 'protecting', 'phill', 'pds', 'patches', 'observer', 'november', 'norway', 'lately', 'kinda', 'jumpers', 'jefferson', 'irvine', 'identified', \"government's\", 'fish', 'exportlcsmitedu', 'exhaust', 'engaged', 'discrimination', 'criteria', 'continuing', 'codes', 'babies', 'assert', 'wounded', 'sparc', 'simon', 'sacred', 'password', 'mag', 'licensed', 'initiative', 'inch', 'ignoring', 'hints', 'graphic', 'fires', 'elected', 'cooling', 'comics', 'cleveland', 'champs', 'cash', 'barry', 'attempted', 'atomic', 'arbitrary', 'wright', 'widespread', 'thy', 'thee', 'teeth', 'scholars', 'representatives', 'regarded', 'processes', 'pixmap', 'paranoid', 'observe', 'nevertheless', 'module', 'ira', 'invented', 'injuries', 'independence', 'handguns', 'govt', 'glass', 'gift', 'flyers', 'extensive', 'executive', 'emotional', 'documented', 'displayed', 'conventional', 'circle', 'buildings', 'believers', 'attributed', 'assumes', 'array', 'approaches', 'albert', 'walls', 'subjects', 'seats', 'screw', 'scanner', 'rushdie', 'roll', 'publicly', 'probability', 'planes', 'photo', 'phd', 'personnel', 'parameters', 'optional', 'likes', 'judged', 'icon', 'hughes', 'howard', 'garage', 'foods', 'consensus', 'com', 'blown', 'biology', 'berkeley', 'beating', 'batteries', 'athens', 'annoying', 'alomar', 'youth', 'winter', 'warren', 'visualization', 'tragedy', 'telnet', 'tactics', 'screwed', 'recommendations', 'receiver', 'physician', 'ownership', 'naval', 'nasty', 'moves', 'modify', 'masses', 'macs', 'lane', 'hung', 'heavily', 'hanging', 'hacker', 'gopher', 'fuhr', 'filename', 'examine', 'emergency', 'demands', 'delete', 'customers', 'contrast', 'contradiction', 'cloud', 'cited', 'charged', 'bursts', 'bradley', 'biological', 'badly', 'tommy', 'tire', 'steering', 'siggraph', 'shame', 'relief', 'prevented', \"paul's\", 'patent', 'outcome', 'opposing', 'oilers', 'neil', 'loose', 'linear', 'jury', 'jay', 'italy', 'interpretations', 'hang', 'hair', 'forgotten', 'finds', 'fewer', 'employees', 'disclaimers', 'defending', 'conscience', 'connections', 'compiler', 'comparing', 'clemens', 'cite', 'bryan', 'brings', 'baku', 'viewing', 'train', 'successfully', 'skills', 'requirement', \"qur'an\", 'promote', 'peaceful', 'mets', 'label', 'jordan', 'involving', 'implied', 'hospitals', 'golden', 'founded', 'feedback', 'dumb', 'difficulty', 'deserves', 'ben', 'anthony', 'worthless', 'warm', 'trigger', 'timer', 'tight', 'surveillance', 'sat', 'saint', 'revolver', 'prophets', 'producing', 'pop', 'photography', 'phigs', 'phenomenon', 'pacific', 'operator', 'neck', 'motto', 'literally', 'lands', 'karabakh', 'joint', 'jake', 'impressive', 'iisi', 'handled', 'football', 'financial', 'fiction', 'falling', 'dust', 'devil', 'derived', 'deliberately', 'dcx', 'covers', 'constantly', 'concepts', 'clone', 'catholics', 'capture', 'canadians', 'beta', 'bds', 'ads', 'zealand', 'wow', 'wondered', 'winners', 'void', 'versus', 'vendors', 'slowly', 'saving', 'rough', 'radiation', 'pushing', 'phenomena', 'pad', 'operate', 'necessity', 'moslem', 'minorities', 'maynard', 'maintained', 'knife', 'judas', 'hint', 'firing', 'encouraged', 'dual', 'crystal', 'contradictory', 'banned', 'apologies', 'affairs', 'admitted', 'adds', 'addressed', 'victory', 'ultimately', 'tone', 'timing', 'theoretical', 'syria', 'speaks', 'significance', 'sight', 'september', 'sept', 'scene', 'rating', 'racism', 'possession', 'pcs', 'parent', 'mvp', 'mileage', 'managers', 'males', 'logo', 'judges', 'jail', 'iraq', 'honestly', 'gotta', 'goalie', 'formal', 'farm', 'fancy', 'exposed', 'exploration', 'enhanced', 'desired', 'designs', 'convincing', 'consists', 'conducted', 'clinic', 'britain', 'belongs', 'announcing', 'anger', 'alpha', 'worthy', 'wishes', 'width', 'sword', 'surrounding', 'specification', 'slots', 'skepticism', 'sharp', 'searching', 'sabres', 'row', 'reserved', 'radius', 'psychological', 'posters', 'obo', 'nearby', 'mph', 'mountains', 'interference', 'hawks', 'ham', 'gathered', 'flesh', 'experiments', 'expand', 'evelyn', 'entity', 'easter', 'dir', 'dimensions', 'desk', 'cure', 'comfortable', 'cage', 'bull', 'zionism', 'wing', 'verify', 'torture', 'therapy', 'taylor', 'suspension', 'surprising', 'scicrypt', 'scheduled', 'rgb', 'plants', 'mob', 'mere', 'loving', \"john's\", 'jimmy', 'intellect', 'honor', 'handy', 'gilmour', 'gene', 'funded', 'frequencies', 'flash', 'flaming', 'entering', 'election', 'ears', 'district', 'dialog', 'demonstrate', 'danny', 'customer', 'courts', 'configsys', 'commentary', 'cipher', 'champions', 'cdc', 'bulletin', 'bps', 'boys', 'blacks', 'arena', 'african', 'wounds', 'wheels', 'violated', 'targets', 'shoulder', 'sensitive', 'senator', 'sealed', 'plausible', 'pitt', 'phillies', 'oppose', 'milwaukee', 'joel', 'interview', 'installing', 'incredible', 'horse', 'germans', 'followups', 'div', 'cuts', 'confirmed', 'collect', 'coast', \"christ's\", 'cast', 'cables', 'blessed', 'blank', 'bed', 'baud', 'audience', 'ann', 'angry', 'allocation', 'winner', 'walked', 'variables', 'trained', 'threatened', 'tampa', 'symbol', 'spelling', 'smooth', 'slip', 'silent', 'shameful', 'sessions', 'sees', 'requiring', 'reporting', 'regional', 'ralph', 'pulling', 'pointer', 'pitches', 'overhead', 'nixon', 'mathewmantiscouk', 'mankind', 'largest', 'judaism', 'holland', 'handler', 'guilt', 'factory', 'faces', 'dedicated', 'crew', 'creates', 'covering', 'consumer', 'condemned', 'broad', 'arrogance', 'xwindows', 'writers', 'virus', 'violations', 'vice', 'transmitted', 'terry', 'sometime', 'sheet', 'script', 'reveal', 'representative', 'render', 'realtime', 'readme', 'quarter', 'powerbook', 'pointers', 'pissed', 'namely', 'mswindows', 'moscow', 'molecular', 'liefeld', 'lawyers', 'islands', 'irq', 'inner', 'injured', 'elias', 'dogma', 'dirty', 'dirt', 'cia', 'charter', 'bureau', 'bringing', 'beam', 'atlantic', 'approval', 'apostles', 'altatheism', 'alarm', 'worthwhile', 'tcpip', 'stewart', 'steal', 'standings', 'slight', 'sequences', 'sensor', 'secondly', 'samuel', 'rings', 'revised', 'removal', 'reliability', 'recorded', 'quoting', 'publish', 'propose', 'promises', 'programmers', 'presentation', 'pixels', 'pirates', 'pink', 'ozone', 'odwyersseie', 'obey', 'malcolm', 'ltd', 'ksand', 'knocked', 'integrated', 'ink', 'initially', 'import', 'heterosexual', 'hens', 'hatching', 'forcing', 'escaped', 'eofnotok', 'eliminate', 'edt', 'disaster', 'conlon', 'column', 'arizona', 'alink', 'aircraft', 'acceptance', 'xdm', 'wanting', 'thermal', 'tempest', 'telescope', 'switched', 'sue', 'sudden', 'struck', 'streets', 'stan', 'spiderman', 'simultaneously', 'shouting', 'serving', 'secrets', 'scope', 'rumors', 'rotation', 'rome', 'risks', 'relating', 'readily', 'psychology', 'prohibit', 'nelson', 'monthly', 'mcconkie', 'mainstream', 'liver', 'jupiter', 'interpreted', 'identity', 'har', 'grey', 'grateful', 'graduate', 'frames', 'fatal', 'fame', 'evans', 'europeans', 'deeply', 'cutting', 'consistently', 'compelled', 'chair', 'camp', 'bmp', 'azeris', 'archie', 'addressing', 'abstract', 'yankees', 'welfare', 'valley', 'undefined', 'static', 'solved', 'solely', 'scispace', 'ruled', 'rockets', 'reset', 'reduction', 'racist', 'preserve', 'prediction', 'noone', 'maryland', 'marked', 'mapping', 'maintaining', 'loud', 'liberties', 'libertarians', 'judgment', 'innings', 'highspeed', 'hamilton', 'genetic', 'floppies', 'fate', 'fallen', 'dependent', 'declare', 'decades', 'considerably', 'clothes', 'cartridge', 'bands', 'achieved', 'waited', 'voted', 'virgin', \"user's\", 'typing', 'trend', 'supplied', 'suggesting', 'spy', \"someone's\", 'sharing', 'separation', 'seeking', 'secondary', 'rifle', 'rice', 'retail', 'restrict', 'replied', 'rep', 'raster', 'politicians', 'nichols', 'newspapers', 'motivated', 'meat', 'maynardramseycslaurentianca', 'landing', 'judging', 'hopkins', 'generic', 'followup', 'essence', 'directories', 'defines', 'databases', 'cruel', 'crisis', 'counter', 'conviction', 'cleaning', 'canucks', 'brains', 'automobile', 'administrator', 'adequate', 'worldwide', 'watts', 'warrants', 'valve', 'unreasonable', 'trace', 'titan', 'teacher', 'subsequent', 'spoken', 'shotgun', 'satisfied', 'sandvik', 'saints', 'quicktime', 'publications', 'pocket', 'physically', 'oriented', 'nov', 'moreover', 'massachusetts', 'mad', 'longterm', 'jagr', 'involvement', 'inspired', 'industrial', 'ill', 'idiot', 'halat', 'gretzky', 'gcc', 'galaxy', 'explains', 'employed', 'docs', 'discharge', 'deficit', 'defenseman', 'decade', 'cylinder', 'cook', 'contrib', 'conscious', 'checks', 'bars', 'axe', 'apologize', 'ages', 'advocate', 'adobe', 'wwii', 'wake', 'viewpoint', 'translated', 'terminals', 'teaches', 'sum', 'separately', 'rkba', 'republicans', 'professionals', 'primitive', 'possibilities', 'plaintext', 'picking', 'periods', 'parking', 'offices', 'nope', 'myth', 'mistaken', 'measured', 'layout', 'larson', 'kidney', 'josephus', 'institutions', 'infections', 'infants', 'hallambaker', 'gui', 'gays', 'finals', 'executed', 'exclusively', 'differential', 'delay', 'covington', 'contacts', 'confidence', 'christmas', 'candidate', 'buck', 'backed', 'azerbaijanis', 'atmospheric', 'allan', 'advantages', 'accidents', 'absolutes', '16bit', 'yamaha', \"women's\", 'weaver', 'swedish', 'strnlghtnetcomcom', 'strikes', 'stations', 'sooner', 'singer', 'shadow', 'resulted', 'redesign', 'reactions', 'racial', 'quack', 'publishing', 'proposals', 'proceedings', 'probes', 'prejudice', 'pounds', 'pipe', \"pc's\", 'payload', 'noknock', 'lifetime', 'lds', 'infrastructure', 'imagination', 'hunting', 'fluid', 'flexible', 'fled', 'fidonet', 'fashion', 'faced', 'dzkrizocfberkeleyedu', 'crameroptilinkcom', 'complaining', 'cleansing', 'chastity', 'characteristics', 'carries', 'butt', 'breast', 'breaks', 'benedikt', 'authorized', 'arthur', 'argued', 'altogether', 'aimed', 'absence', 'unfortunate', 'trash', 'sync', 'storm', 'stopping', 'stayed', 'sons', 'sole', 'sinners', 'simm', 'sigh', 'seperate', 'senators', 'roberts', 'regime', 'prize', 'pregnancy', 'painful', 'narrow', 'morgan', 'morally', 'medium', 'manufacture', 'lunch', 'locate', 'loading', 'lesson', 'henrik', 'hartford', 'grounding', 'gray', 'functionality', 'formation', 'fantasy', 'explaining', 'excerpts', 'eve', 'ear', 'drops', 'destroying', 'curve', 'creationism', 'coprocessor', 'condemn', 'channels', 'campbell', 'c650', 'bills', 'bigotry', 'ammunition', 'accepting', 'twins', 'trivial', 'transmit', 'theodore', 'tartar', 'stores', 'statistical', 'stanford', 'sinful', 'screens', 'runner', 'ross', 'righteous', 'polygons', 'ours', 'mirrors', 'miracle', 'mechanics', 'maxtor', 'locked', 'limbaugh', 'lawabiding', 'laboratories', 'kendig', 'inferior', 'inexpensive', 'humor', 'hostile', 'greetings', 'fresh', 'frequent', 'formerly', 'extermination', 'enable', 'electricity', 'drunk', 'drinking', 'doctrines', 'discover', 'density', 'demonstration', 'deeds', 'dates', 'contributions', 'confuse', 'camps', 'cameras', 'belt', 'begun', 'assistant', 'aluminum', 'afternoon', 'accused', 'utterly', 'tolerance', 'supplies', 'studied', 'smoking', 'scenario', 'sabretooth', 'robin', 'restriction', 'resolve', 'relativity', 'reds', 'reagan', 'prophecies', 'priests', 'prevention', 'pretend', 'presents', 'premiums', 'plo', 'perception', 'overwhelming', 'origins', 'nyr', 'n3jxp', 'muscle', 'murphy', 'monitoring', 'micro', 'mercury', 'mapped', 'maple', 'ludicrous', 'loves', 'locations', 'livni', 'lindros', 'launchers', 'isaiah', 'investigate', 'intervention', 'interior', 'inherently', 'inherent', 'hunter', 'hisher', 'garden', 'esdi', 'enforce', 'directions', 'digest', 'desert', 'denning', 'den', 'corrupt', 'comet', 'cmos', 'chromium', 'bearing', \"apple's\", 'ansi', 'yellow', \"year's\", 'walks', 'vms', 'velocity', 'stance', 'stadium', 'sinner', 'shortly', 'shock', 'sender', 'selfdefense', 'rubber', 'reducing', 'rated', 'personality', 'paris', 'paranoia', \"o'reilly\", 'norris', 'nights', 'nicely', 'mystery', 'mixed', 'mighty', 'locks', 'layer', 'kurdish', 'integration', 'insane', 'hirschbeck', 'hess', 'handed', 'grew', 'gregory', 'gebcadredslpittedu', 'fuck', 'freedoms', 'execute', 'exclusive', 'exciting', 'engage', 'dump', 'developers', 'delivered', 'decrypt', 'corresponding', 'convicted', 'contradict', 'confirm', 'collision', 'carolina', 'boggs', 'binaries', 'balcony', 'answering', 'amongst', 'zoology', 'vacuum', 'ugly', 'trap', 'tasks', 'souls', 'skill', 'safely', 'rookie', 'relation', 'refresh', 'rayshade', 'protest', 'preventing', 'poll', 'politically', 'peak', 'pays', 'participants', 'outer', 'olwm', 'offering', 'nvestors', 'novell', 'netherlands', 'meetings', 'meaningful', 'massacres', 'maps', 'lyme', 'lift', 'leg', 'laughed', 'joy', 'irgun', 'infant', 'handles', 'grade', 'formula', 'filed', 'fed', 'expanded', 'elaborate', 'economics', 'discount', 'denying', 'delta', 'countersteering', 'counted', 'copying', 'consortium', 'considerations', 'conflicts', 'conductor', 'coffee', 'cherry', 'cdtvosstratuscom', 'cdtrocketswstratuscom', 'cant', 'bothered', 'blew', 'beleive', 'anecdotal', 'aerospace', 'viewed', 'upgraded', 'treatments', 'traditions', 'tartars', 'subscription', 'ships', 'shaw', 'samples', 'rifles', 'restricted', 'restore', 'releases', 'regulation', 'recognition', 'reaching', 'rain', 'publishers', 'proceed', 'plugs', 'planets', 'performing', 'owns', 'ott', 'orbiter', 'oort', 'negotiations', 'midi', 'melbourne', 'mamma', 'likewise', 'laughter', \"larson's\", 'kirlian', 'kick', 'keywords', 'jakebony1bonycom', 'jacket', 'impose', 'hearts', 'glenn', 'fundamentalist', 'fascist', 'failing', 'extensions', 'extend', 'explicit', 'expecting', 'evaluation', 'ethical', 'equipped', 'engineers', 'editing', 'diagnosed', 'cryptographic', 'crying', 'cry', 'croats', 'credibility', 'courses', 'considerable', 'completed', 'collapse', 'builtin', 'binding', 'believer', 'awesome', 'arromdee', 'arrested', '1024x768', 'yugoslavia', 'younger', 'weekly', 'wed', 'warned', 'ward', 'utzoohenry', 'utter', 'universities', 'trucks', 'trees', 'stretch', 'seasons', 'seagate', 'schneider', 'rescorla', 'rapidly', 'punished', 'predicted', 'praying', 'pitched', 'philosophical', 'permitted', 'pennsylvania', 'parity', 'oxygen', 'outlet', 'movies', 'moore', 'meter', 'legs', 'lciii', 'launches', 'interrupt', 'inputs', 'ian', 'harmful', 'graphical', 'gerry', 'examined', 'dynamics', 'dpi', 'differ', 'diagnosis', 'der', 'defeated', 'declared', 'creative', 'concluded', 'compete', 'commandment', 'circles', 'cica', 'buried', 'armored', 'apollo', 'acquired', 'acknowledge', \"world's\", 'valentine', 'trusted', 'tons', 'swiss', 'swing', 'survived', 'suits', 'sphere', 'skip', 'shipped', 'settle', 'secrecy', 'searches', 'seals', 'ruling', 'repost', 'replacing', 'refugees', 'recording', 'rally', 'query', 'presume', 'pleased', 'permits', 'partly', 'outs', 'oral', 'opponents', 'obscure', 'naive', 'mexico', 'mentions', 'masks', 'magnetic', 'lowest', 'links', 'journalists', 'iranian', 'invited', 'interviews', 'insight', 'incidents', 'immune', 'humanitarian', 'hayes', 'grayscale', 'gainey', 'fools', 'finite', 'fingers', 'filters', 'fastest', 'expense', 'existance', 'execution', 'excessive', 'download', 'displaying', 'disappear', 'devoted', 'descriptions', 'deity', 'damaged', 'corrected', 'consumption', 'competing', 'catcher', 'cassette', 'carrier', 'buyer', 'boring', 'boots', 'bogus', 'blowing', 'bloody', 'beats', 'bastard', 'bagged', 'attend', 'atrocities', 'archivename', 'anonymity', 'altitude', 'allies', 'adjust', 'aaa', 'walter', 'vector', 'umpire', 'throttle', 'theist', 'telecommunications', 'tea', 'taurus', 'strict', 'snail', 'shifting', 'sherri', 'sheep', 'shack', 'sensing', 'riders', 'respectively', 'resist', 'represented', 'processors', 'probable', 'priority', 'practically', 'patterns', 'obp', 'oakland', 'nationality', 'motorcycles', 'mint', 'meanwhile', 'marry', 'markus', 'mar', 'maintenance', 'kennedy', 'jpl', 'invalid', 'intercourse', 'intention', 'infectious', 'implications', 'hiding', 'heavens', 'handbook', 'frankly', 'forgive', 'fischer', 'expo', 'exceptions', 'examination', 'encountered', 'edited', 'drew', 'doc', 'deletion', 'dee', 'courtesy', 'convertible', 'contribution', 'contradictions', 'conner', 'connectors', 'communist', 'collected', 'click', 'china', 'categories', 'businesses', 'bacteria', 'avoided', 'anatolia', 'acceleration', 'yup', 'xforce', 'winfield', 'wash', 'voluntary', 'vendor']\n"
     ]
    }
   ],
   "source": [
    "#feature selection and count\n",
    "n = 5000\n",
    "features = wrds[0:n]\n",
    "print(features)"
   ]
  },
  {
   "cell_type": "code",
   "execution_count": 36,
   "metadata": {},
   "outputs": [],
   "source": [
    "#creating dict for each document vocablary \n",
    "dictionary = {}\n",
    "doc_num = 1\n",
    "for doc_words in list_of_words:\n",
    "    #print(doc_words)\n",
    "    np_doc_words = np.asarray(doc_words)\n",
    "    w, c = np.unique(np_doc_words, return_counts=True)\n",
    "    dictionary[doc_num] = {}\n",
    "    for i in range(len(w)):\n",
    "        dictionary[doc_num][w[i]] = c[i]\n",
    "    doc_num = doc_num + 1"
   ]
  },
  {
   "cell_type": "code",
   "execution_count": 38,
   "metadata": {},
   "outputs": [],
   "source": [
    "#to find frequencey of feature selected in document for training data\n",
    "X_train = []\n",
    "for k in dictionary.keys():\n",
    "    row = []\n",
    "    for f in features:\n",
    "        if(f in dictionary[k].keys()):\n",
    "            row.append(dictionary[k][f])     #if present in feature frequency will be added to row\n",
    "        else:\n",
    "            row.append(0)  #if not present then zero frequency\n",
    "    X_train.append(row)"
   ]
  },
  {
   "cell_type": "code",
   "execution_count": 39,
   "metadata": {},
   "outputs": [],
   "source": [
    "X_train = np.asarray(X_train)\n",
    "Y_train = np.asarray(Y_train)"
   ]
  },
  {
   "cell_type": "code",
   "execution_count": 40,
   "metadata": {},
   "outputs": [
    {
     "data": {
      "text/plain": [
       "14997"
      ]
     },
     "execution_count": 40,
     "metadata": {},
     "output_type": "execute_result"
    }
   ],
   "source": [
    "len(X_train)"
   ]
  },
  {
   "cell_type": "code",
   "execution_count": 41,
   "metadata": {},
   "outputs": [
    {
     "data": {
      "text/plain": [
       "14997"
      ]
     },
     "execution_count": 41,
     "metadata": {},
     "output_type": "execute_result"
    }
   ],
   "source": [
    "len(Y_train)"
   ]
  },
  {
   "cell_type": "code",
   "execution_count": 42,
   "metadata": {},
   "outputs": [],
   "source": [
    "#repating all steps for test data\n",
    "list_of_words_test = []\n",
    "\n",
    "for document in doc_test:\n",
    "        list_of_words_test.append(flatten(tokenize(document)))"
   ]
  },
  {
   "cell_type": "code",
   "execution_count": 43,
   "metadata": {},
   "outputs": [],
   "source": [
    "dictionary_test = {}\n",
    "doc_num = 1\n",
    "for doc_words in list_of_words_test:\n",
    "    np_doc_words = np.asarray(doc_words)\n",
    "    w, c = np.unique(np_doc_words, return_counts=True)\n",
    "    dictionary_test[doc_num] = {}\n",
    "    for i in range(len(w)):\n",
    "        dictionary_test[doc_num][w[i]] = c[i]\n",
    "    doc_num = doc_num + 1"
   ]
  },
  {
   "cell_type": "code",
   "execution_count": 44,
   "metadata": {},
   "outputs": [],
   "source": [
    "X_test = []\n",
    "for k in dictionary_test.keys():\n",
    "    row = []\n",
    "    for f in features:\n",
    "        if(f in dictionary_test[k].keys()):\n",
    "            row.append(dictionary_test[k][f]) \n",
    "        else:\n",
    "            row.append(0)\n",
    "    X_test.append(row)"
   ]
  },
  {
   "cell_type": "code",
   "execution_count": 45,
   "metadata": {},
   "outputs": [],
   "source": [
    "X_test = np.asarray(X_test)\n",
    "Y_test = np.asarray(Y_test)"
   ]
  },
  {
   "cell_type": "code",
   "execution_count": 46,
   "metadata": {},
   "outputs": [
    {
     "data": {
      "text/plain": [
       "5000"
      ]
     },
     "execution_count": 46,
     "metadata": {},
     "output_type": "execute_result"
    }
   ],
   "source": [
    "len(X_test)"
   ]
  },
  {
   "cell_type": "code",
   "execution_count": 47,
   "metadata": {},
   "outputs": [
    {
     "data": {
      "text/plain": [
       "5000"
      ]
     },
     "execution_count": 47,
     "metadata": {},
     "output_type": "execute_result"
    }
   ],
   "source": [
    "len(Y_test)"
   ]
  },
  {
   "cell_type": "markdown",
   "metadata": {},
   "source": [
    "# Classification using sklearn's Multinomial Naive Bayes"
   ]
  },
  {
   "cell_type": "code",
   "execution_count": 48,
   "metadata": {},
   "outputs": [
    {
     "data": {
      "text/plain": [
       "MultinomialNB(alpha=1.0, class_prior=None, fit_prior=True)"
      ]
     },
     "execution_count": 48,
     "metadata": {},
     "output_type": "execute_result"
    }
   ],
   "source": [
    "from sklearn.naive_bayes import MultinomialNB\n",
    "clf = MultinomialNB()   #using default parameters\n",
    "clf.fit(X_train, Y_train)"
   ]
  },
  {
   "cell_type": "code",
   "execution_count": 49,
   "metadata": {},
   "outputs": [],
   "source": [
    "Y_predict = clf.predict(X_test)"
   ]
  },
  {
   "cell_type": "code",
   "execution_count": 50,
   "metadata": {},
   "outputs": [
    {
     "data": {
      "text/plain": [
       "0.7658"
      ]
     },
     "execution_count": 50,
     "metadata": {},
     "output_type": "execute_result"
    }
   ],
   "source": [
    "clf.score(X_test, Y_test)"
   ]
  },
  {
   "cell_type": "code",
   "execution_count": 51,
   "metadata": {},
   "outputs": [
    {
     "name": "stdout",
     "output_type": "stream",
     "text": [
      "                          precision    recall  f1-score   support\n",
      "\n",
      "             alt.atheism       0.61      0.73      0.66       233\n",
      "           comp.graphics       0.60      0.66      0.63       253\n",
      " comp.os.ms-windows.misc       0.73      0.65      0.69       249\n",
      "comp.sys.ibm.pc.hardware       0.66      0.72      0.69       240\n",
      "   comp.sys.mac.hardware       0.69      0.78      0.73       236\n",
      "          comp.windows.x       0.78      0.72      0.75       240\n",
      "            misc.forsale       0.80      0.76      0.78       261\n",
      "               rec.autos       0.81      0.81      0.81       269\n",
      "         rec.motorcycles       0.82      0.90      0.86       284\n",
      "      rec.sport.baseball       0.91      0.90      0.91       248\n",
      "        rec.sport.hockey       0.87      0.96      0.91       231\n",
      "               sci.crypt       0.93      0.86      0.89       233\n",
      "         sci.electronics       0.77      0.70      0.74       244\n",
      "                 sci.med       0.90      0.86      0.88       256\n",
      "               sci.space       0.88      0.83      0.85       246\n",
      "  soc.religion.christian       0.77      0.83      0.80       252\n",
      "      talk.politics.guns       0.68      0.83      0.75       249\n",
      "   talk.politics.mideast       0.90      0.83      0.86       281\n",
      "      talk.politics.misc       0.63      0.61      0.62       259\n",
      "      talk.religion.misc       0.57      0.35      0.43       236\n",
      "\n",
      "                accuracy                           0.77      5000\n",
      "               macro avg       0.77      0.76      0.76      5000\n",
      "            weighted avg       0.77      0.77      0.76      5000\n",
      "\n"
     ]
    }
   ],
   "source": [
    "from sklearn.metrics import classification_report, confusion_matrix, accuracy_score\n",
    "print(classification_report(Y_test, Y_predict))"
   ]
  },
  {
   "cell_type": "markdown",
   "metadata": {},
   "source": [
    "# Multinomial Naive Bayes from scratch"
   ]
  },
  {
   "cell_type": "code",
   "execution_count": 53,
   "metadata": {},
   "outputs": [],
   "source": [
    "def fit(X_train, Y_train):          #this fit function will provide dictionary of training data\n",
    "    result = {}\n",
    "    classes, counts = np.unique(Y_train, return_counts=True)  \n",
    "    for i in range(len(classes)):\n",
    "        curr_class = classes[i]\n",
    "        \n",
    "        result[\"TOTAL_DATA\"] = len(Y_train)\n",
    "        result[curr_class] = {}\n",
    "        \n",
    "        X_tr_curr = X_train[Y_train == curr_class]\n",
    "        \n",
    "        num_features = n\n",
    "        \n",
    "        for j in range(num_features):\n",
    "            result[curr_class][features[j]] = X_tr_curr[:,j].sum() \n",
    "                \n",
    "        result[curr_class][\"TOTAL_COUNT\"] = counts[i]\n",
    "    \n",
    "    return result"
   ]
  },
  {
   "cell_type": "code",
   "execution_count": 54,
   "metadata": {},
   "outputs": [],
   "source": [
    "#this will calculate probabilities and by taking log and adding them instead of multiplication\n",
    "def log_probablity(dictionary_train, x, curr_class):\n",
    "    output = np.log(dictionary_train[curr_class][\"TOTAL_COUNT\"]) - np.log(dictionary_train[\"TOTAL_DATA\"])\n",
    "    num_words = len(x)\n",
    "    for j in range(num_words):\n",
    "        if(x[j] in dictionary_train[curr_class].keys()):\n",
    "            xj = x[j]\n",
    "            count_curr_class_equal_xj = dictionary_train[curr_class][xj] + 1\n",
    "            count_curr_class = dictionary_train[curr_class][\"TOTAL_COUNT\"] + len(dictionary_train[curr_class].keys())\n",
    "            curr_xj_prob = np.log(count_curr_class_equal_xj) - np.log(count_curr_class)\n",
    "            output = output + curr_xj_prob\n",
    "        else:\n",
    "            continue\n",
    "    \n",
    "    return output"
   ]
  },
  {
   "cell_type": "code",
   "execution_count": 55,
   "metadata": {},
   "outputs": [],
   "source": [
    "# this will predict for a single document class\n",
    "def predictSinglePoint(dictionary_train, x):\n",
    "    classes = dictionary_train.keys()\n",
    "    best_p = -10000\n",
    "    best_class = -1\n",
    "    for curr_class in classes:\n",
    "        if(curr_class == \"TOTAL_DATA\"):\n",
    "            continue\n",
    "        p_curr_class = log_probablity(dictionary_train, x, curr_class)\n",
    "        if(p_curr_class > best_p):\n",
    "            best_p = p_curr_class\n",
    "            best_class = curr_class\n",
    "            \n",
    "    return best_class"
   ]
  },
  {
   "cell_type": "code",
   "execution_count": 56,
   "metadata": {},
   "outputs": [],
   "source": [
    "#this will take all documents and pass to single predict one by one \n",
    "def predict(dictionary_train, X_test):\n",
    "    Y_pred = []\n",
    "    for x in X_test:\n",
    "        y_predicted = predictSinglePoint(dictionary_train, x)\n",
    "        Y_pred.append(y_predicted)\n",
    "    \n",
    "    #print(Y_pred)\n",
    "    return Y_pred"
   ]
  },
  {
   "cell_type": "code",
   "execution_count": 57,
   "metadata": {},
   "outputs": [],
   "source": [
    "train_dictionary = fit(X_train, Y_train)"
   ]
  },
  {
   "cell_type": "code",
   "execution_count": 58,
   "metadata": {},
   "outputs": [],
   "source": [
    "X_test = []\n",
    "\n",
    "for key in dictionary_test.keys():\n",
    "    X_test.append(list(dictionary_test[key].keys()))"
   ]
  },
  {
   "cell_type": "code",
   "execution_count": 59,
   "metadata": {},
   "outputs": [],
   "source": [
    "y_pred = predict(train_dictionary, X_test)"
   ]
  },
  {
   "cell_type": "code",
   "execution_count": 60,
   "metadata": {},
   "outputs": [],
   "source": [
    "y_pred = np.asarray(y_pred)"
   ]
  },
  {
   "cell_type": "code",
   "execution_count": 61,
   "metadata": {},
   "outputs": [
    {
     "data": {
      "text/plain": [
       "0.5632"
      ]
     },
     "execution_count": 61,
     "metadata": {},
     "output_type": "execute_result"
    }
   ],
   "source": [
    "accuracy_score(Y_test, y_pred)"
   ]
  },
  {
   "cell_type": "code",
   "execution_count": 62,
   "metadata": {},
   "outputs": [
    {
     "name": "stdout",
     "output_type": "stream",
     "text": [
      "                          precision    recall  f1-score   support\n",
      "\n",
      "             alt.atheism       0.65      0.64      0.64       233\n",
      "           comp.graphics       0.51      0.57      0.54       253\n",
      " comp.os.ms-windows.misc       0.85      0.26      0.40       249\n",
      "comp.sys.ibm.pc.hardware       0.63      0.57      0.60       240\n",
      "   comp.sys.mac.hardware       0.92      0.37      0.53       236\n",
      "          comp.windows.x       0.52      0.80      0.63       240\n",
      "            misc.forsale       0.83      0.30      0.44       261\n",
      "               rec.autos       0.76      0.35      0.48       269\n",
      "         rec.motorcycles       0.98      0.31      0.47       284\n",
      "      rec.sport.baseball       0.98      0.61      0.75       248\n",
      "        rec.sport.hockey       0.86      0.84      0.85       231\n",
      "               sci.crypt       0.53      0.85      0.65       233\n",
      "         sci.electronics       0.77      0.32      0.46       244\n",
      "                 sci.med       0.89      0.61      0.73       256\n",
      "               sci.space       0.81      0.63      0.71       246\n",
      "  soc.religion.christian       0.62      0.88      0.73       252\n",
      "      talk.politics.guns       0.75      0.42      0.54       249\n",
      "   talk.politics.mideast       0.51      0.93      0.66       281\n",
      "      talk.politics.misc       0.19      0.83      0.31       259\n",
      "      talk.religion.misc       0.51      0.20      0.29       236\n",
      "\n",
      "                accuracy                           0.56      5000\n",
      "               macro avg       0.70      0.56      0.57      5000\n",
      "            weighted avg       0.70      0.56      0.57      5000\n",
      "\n"
     ]
    }
   ],
   "source": [
    "print(classification_report(Y_test, y_pred))"
   ]
  },
  {
   "cell_type": "code",
   "execution_count": 63,
   "metadata": {},
   "outputs": [
    {
     "name": "stdout",
     "output_type": "stream",
     "text": [
      "[[149   0   0   0   0   0   0   0   0   0   0   1   0   0   0  24   0  16\n",
      "   20  23]\n",
      " [  3 145   3   9   0  40   0   1   0   0   0  12   0   2   5   5   0   9\n",
      "   18   1]\n",
      " [  2  30  64  12   0  81   0   0   0   0   2  22   1   1   4   1   0   1\n",
      "   28   0]\n",
      " [  2  21   4 137   0  17   5   0   0   0   0  23   4   1   1   2   0   4\n",
      "   19   0]\n",
      " [  1  12   1  30  87  14   3   0   0   0   3  20   7   4   2   0   0   7\n",
      "   44   1]\n",
      " [  0  19   1   1   0 193   0   0   0   0   1   5   0   1   0   0   0   5\n",
      "   14   0]\n",
      " [  0  19   1  24   7   7  78   8   0   0   6  16   8   3  12   2   2  19\n",
      "   48   1]\n",
      " [  1   2   0   0   0   2   6  93   0   1   2   3   3   2   3   2   3  32\n",
      "  113   1]\n",
      " [  1   2   0   1   0   1   1  19  87   0   0   3   0   2   0   2   3  26\n",
      "  133   3]\n",
      " [  2   3   0   0   0   1   0   0   0 152  12   2   0   2   0   3   3  15\n",
      "   51   2]\n",
      " [  0   0   0   0   0   0   0   0   0   0 194   1   0   0   0   1   0   5\n",
      "   29   1]\n",
      " [  1   1   1   0   0   3   0   0   0   0   0 197   0   0   0   2   2   2\n",
      "   24   0]\n",
      " [  0  18   0   5   1   6   0   1   1   0   1  53  79   1   7   4   3  12\n",
      "   50   2]\n",
      " [  6   5   0   0   0   0   0   0   0   1   1   3   0 157   2   9   1  22\n",
      "   46   3]\n",
      " [  5   3   0   0   0   2   1   0   0   0   1   2   1   1 156   6   1  10\n",
      "   56   1]\n",
      " [  2   1   0   0   0   0   0   0   0   1   0   1   0   0   0 221   0  12\n",
      "   11   3]\n",
      " [  1   0   0   0   0   0   0   0   0   0   1   2   0   0   0   4 105  14\n",
      "  120   2]\n",
      " [  2   0   0   0   0   1   0   0   1   0   0   1   0   0   0   2   2 260\n",
      "   12   0]\n",
      " [  1   1   0   0   0   0   0   0   0   0   1   2   0   0   1   4   5  28\n",
      "  214   2]\n",
      " [ 51   1   0   0   0   0   0   0   0   0   1   1   0   0   0  61  10   8\n",
      "   55  48]]\n"
     ]
    }
   ],
   "source": [
    "print(confusion_matrix(Y_test, y_pred))"
   ]
  },
  {
   "cell_type": "code",
   "execution_count": null,
   "metadata": {},
   "outputs": [],
   "source": []
  }
 ],
 "metadata": {
  "kernelspec": {
   "display_name": "Python 3",
   "language": "python",
   "name": "python3"
  },
  "language_info": {
   "codemirror_mode": {
    "name": "ipython",
    "version": 3
   },
   "file_extension": ".py",
   "mimetype": "text/x-python",
   "name": "python",
   "nbconvert_exporter": "python",
   "pygments_lexer": "ipython3",
   "version": "3.7.3"
  }
 },
 "nbformat": 4,
 "nbformat_minor": 2
}
